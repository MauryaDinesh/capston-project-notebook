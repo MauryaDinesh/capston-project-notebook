{
    "nbformat_minor": 1, 
    "cells": [
        {
            "source": "## Business Problem", 
            "cell_type": "markdown", 
            "metadata": {
                "collapsed": true
            }
        }, 
        {
            "source": "New York City being one of most populous cities in the world and having people from diverse ethnicity, their taste and preference of any particular type of food may vary. If anyone wants to open a restaurant in the city then basic information required for that would be find out what area of city he/she needs to choose and what type of restaurant (e.g. Chinese, India, Japanese etc.) would make more business sense in terms of profitability.\n\nThis business problem this exercise is trying to solve it to explore the New York City for its demographics and suggest the locations if anyone want to open an Chinese restaurant.\n", 
            "cell_type": "markdown", 
            "metadata": {}
        }, 
        {
            "source": "# Data", 
            "cell_type": "markdown", 
            "metadata": {}
        }, 
        {
            "source": "- First Data source for this exercise would be https://cocl.us/new_york_dataset which contains a total of 5 boroughs and neighborhoods that exists in each borough, of New York city. This data also contains the lattitude and longitude information of each neighborbood.\n\n- Once we have the information of each neighorhoos, I will use the FourSqaure venue APIs to explore each neighborhood for the restaurants in that neighbouhood and analyse the data for the answers I am looking for this exercise.\n", 
            "cell_type": "markdown", 
            "metadata": {}
        }, 
        {
            "execution_count": null, 
            "cell_type": "code", 
            "metadata": {}, 
            "outputs": [], 
            "source": ""
        }
    ], 
    "metadata": {
        "kernelspec": {
            "display_name": "Python 3.6", 
            "name": "python3", 
            "language": "python"
        }, 
        "language_info": {
            "mimetype": "text/x-python", 
            "nbconvert_exporter": "python", 
            "version": "3.6.8", 
            "name": "python", 
            "file_extension": ".py", 
            "pygments_lexer": "ipython3", 
            "codemirror_mode": {
                "version": 3, 
                "name": "ipython"
            }
        }
    }, 
    "nbformat": 4
}